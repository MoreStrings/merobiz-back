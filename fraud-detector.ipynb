{
 "cells": [
  {
   "cell_type": "markdown",
   "id": "628205a9",
   "metadata": {},
   "source": [
    "# import the pickle"
   ]
  },
  {
   "cell_type": "markdown",
   "id": "8d4c5d6e",
   "metadata": {},
   "source": []
  },
  {
   "cell_type": "code",
   "execution_count": 17,
   "id": "ce6847f9",
   "metadata": {},
   "outputs": [
    {
     "name": "stderr",
     "output_type": "stream",
     "text": [
      "c:\\Users\\ROG\\AppData\\Local\\Programs\\Python\\Python313\\Lib\\site-packages\\sklearn\\base.py:440: InconsistentVersionWarning: Trying to unpickle estimator LogisticRegression from version 1.6.1 when using version 1.7.0. This might lead to breaking code or invalid results. Use at your own risk. For more info please refer to:\n",
      "https://scikit-learn.org/stable/model_persistence.html#security-maintainability-limitations\n",
      "  warnings.warn(\n"
     ]
    }
   ],
   "source": [
    "import joblib\n",
    "\n",
    "model = joblib.load(\"fraud_detector.pkl\")"
   ]
  },
  {
   "cell_type": "code",
   "execution_count": 18,
   "id": "f4c258cc",
   "metadata": {},
   "outputs": [
    {
     "data": {
      "text/plain": [
       "15"
      ]
     },
     "execution_count": 18,
     "metadata": {},
     "output_type": "execute_result"
    }
   ],
   "source": [
    "model.n_features_in_"
   ]
  },
  {
   "cell_type": "markdown",
   "id": "9967c021",
   "metadata": {},
   "source": [
    "# sample input testing"
   ]
  },
  {
   "cell_type": "code",
   "execution_count": 19,
   "id": "f09ade9f",
   "metadata": {},
   "outputs": [],
   "source": [
    "sample = {\n",
    "  'cat__category_Beauty': 0,\n",
    "  'cat__category_Electronics': 1,\n",
    "  'cat__category_Fashion': 0,\n",
    "  'cat__category_Groceries': 0,\n",
    "  'cat__category_Home Appliances': 0,\n",
    "  'remainder__acc_days': 3,\n",
    "  'remainder__failed_logins': 1,\n",
    "  'remainder__is_vpn_or_proxy': 1,\n",
    "  'remainder__transaction_amount': 2500,\n",
    "  'remainder__is_card_blacklisted': 0,\n",
    "  'remainder__is_multiple_cards_used': 1,\n",
    "  'remainder__items_quantity': 7,\n",
    "  'remainder__pages_viewed': 12,\n",
    "  'remainder__device_change_during_session': 0,\n",
    "  'remainder__purchase_frequency_user': 0.1\n",
    "}\n"
   ]
  },
  {
   "cell_type": "code",
   "execution_count": 20,
   "id": "18e04f22",
   "metadata": {},
   "outputs": [
    {
     "name": "stderr",
     "output_type": "stream",
     "text": [
      "c:\\Users\\ROG\\AppData\\Local\\Programs\\Python\\Python313\\Lib\\site-packages\\sklearn\\utils\\validation.py:2742: UserWarning: X has feature names, but LogisticRegression was fitted without feature names\n",
      "  warnings.warn(\n"
     ]
    }
   ],
   "source": [
    "import pandas as pd\n",
    "\n",
    "df = pd.DataFrame([sample])\n",
    "\n",
    "prediction = model.predict(df)[0]"
   ]
  },
  {
   "cell_type": "code",
   "execution_count": 21,
   "id": "238fe0d7",
   "metadata": {},
   "outputs": [
    {
     "name": "stdout",
     "output_type": "stream",
     "text": [
      "Fraudulent:  True\n"
     ]
    }
   ],
   "source": [
    "print(\"Fraudulent: \", bool(prediction))"
   ]
  },
  {
   "cell_type": "markdown",
   "id": "ca0e50ac",
   "metadata": {},
   "source": [
    "# helper function for model input & the principle prediction function<br>\n",
    "the model is not a pipeline rather just a linear regression model so we need to process the inputs"
   ]
  },
  {
   "cell_type": "markdown",
   "id": "e6973244",
   "metadata": {},
   "source": [
    "helper function and test"
   ]
  },
  {
   "cell_type": "code",
   "execution_count": 22,
   "id": "55861641",
   "metadata": {},
   "outputs": [
    {
     "name": "stdout",
     "output_type": "stream",
     "text": [
      "Fraudulent: True\n"
     ]
    },
    {
     "name": "stderr",
     "output_type": "stream",
     "text": [
      "c:\\Users\\ROG\\AppData\\Local\\Programs\\Python\\Python313\\Lib\\site-packages\\sklearn\\utils\\validation.py:2742: UserWarning: X has feature names, but LogisticRegression was fitted without feature names\n",
      "  warnings.warn(\n"
     ]
    }
   ],
   "source": [
    "# List of feature names the model expects\n",
    "feature_names = [\n",
    "    'cat__category_Beauty', 'cat__category_Electronics', 'cat__category_Fashion', \n",
    "    'cat__category_Groceries', 'cat__category_Home Appliances', 'remainder__acc_days', \n",
    "    'remainder__failed_logins', 'remainder__is_vpn_or_proxy', 'remainder__transaction_amount', \n",
    "    'remainder__is_card_blacklisted', 'remainder__is_multiple_cards_used', 'remainder__items_quantity', \n",
    "    'remainder__pages_viewed', 'remainder__device_change_during_session', 'remainder__purchase_frequency_user'\n",
    "]\n",
    "\n",
    "def prepare_features(raw_input, feature_names):\n",
    "    sample = {f: 0 for f in feature_names if f.startswith(\"cat__category_\")}\n",
    "    \n",
    "    # Set the correct one-hot encoded category feature to 1\n",
    "    category_col = \"cat__category_\" + raw_input[\"category\"]\n",
    "    if category_col not in feature_names:\n",
    "        raise ValueError(f\"Unknown category '{raw_input['category']}'\")\n",
    "    sample[category_col] = 1\n",
    "    \n",
    "    # Fill in remainder features from raw_input, default to 0 if missing\n",
    "    for f in feature_names:\n",
    "        if f.startswith(\"remainder__\"):\n",
    "            key = f.replace(\"remainder__\", \"\")\n",
    "            sample[f] = raw_input.get(key, 0)\n",
    "    \n",
    "    return sample\n",
    "\n",
    "\n",
    "# Example raw input with human-friendly keys\n",
    "raw_input = {\n",
    "  \"category\": \"Electronics\",\n",
    "  \"acc_days\": 3,\n",
    "  \"failed_logins\": 1,\n",
    "  \"is_vpn_or_proxy\": 1,\n",
    "  \"transaction_amount\": 2500,\n",
    "  \"is_card_blacklisted\": 0,\n",
    "  \"is_multiple_cards_used\": 1,\n",
    "  \"items_quantity\": 7,\n",
    "  \"pages_viewed\": 12,\n",
    "  \"device_change_during_session\": 0,\n",
    "  \"purchase_frequency_user\": 0.1\n",
    "}\n",
    "\n",
    "# Prepare the input for the model\n",
    "sample = prepare_features(raw_input, feature_names)\n",
    "\n",
    "# Convert to DataFrame and predict\n",
    "df = pd.DataFrame([sample])\n",
    "prediction = model.predict(df)[0]\n",
    "\n",
    "print(\"Fraudulent:\", bool(prediction))\n"
   ]
  },
  {
   "cell_type": "markdown",
   "id": "38949082",
   "metadata": {},
   "source": [
    "Princple prediction function"
   ]
  },
  {
   "cell_type": "code",
   "execution_count": 25,
   "id": "06c7f922",
   "metadata": {},
   "outputs": [],
   "source": [
    "def predict_fraud_with_confidence(raw_input):\n",
    "    sample = prepare_features(raw_input, feature_names)\n",
    "    df = pd.DataFrame([sample])\n",
    "    pred = model.predict(df)[0]\n",
    "    prob = model.predict_proba(df)[0][1]  # Probability for the positive class (fraud)\n",
    "    return {\n",
    "        \"fraudulent\": bool(pred),\n",
    "        \"confidence\": float(round(prob, 5))  # rounded to 5 decimals for neatness\n",
    "    }\n"
   ]
  },
  {
   "cell_type": "code",
   "execution_count": 26,
   "id": "f79e1a32",
   "metadata": {},
   "outputs": [
    {
     "name": "stdout",
     "output_type": "stream",
     "text": [
      "{'fraudulent': True, 'confidence': 0.97583}\n"
     ]
    },
    {
     "name": "stderr",
     "output_type": "stream",
     "text": [
      "c:\\Users\\ROG\\AppData\\Local\\Programs\\Python\\Python313\\Lib\\site-packages\\sklearn\\utils\\validation.py:2742: UserWarning: X has feature names, but LogisticRegression was fitted without feature names\n",
      "  warnings.warn(\n",
      "c:\\Users\\ROG\\AppData\\Local\\Programs\\Python\\Python313\\Lib\\site-packages\\sklearn\\utils\\validation.py:2742: UserWarning: X has feature names, but LogisticRegression was fitted without feature names\n",
      "  warnings.warn(\n"
     ]
    }
   ],
   "source": [
    "#testing the prediction function\n",
    "\n",
    "result = predict_fraud_with_confidence(raw_input)\n",
    "print(result)"
   ]
  },
  {
   "cell_type": "markdown",
   "id": "9e5421cd",
   "metadata": {},
   "source": [
    "## Wrapping the predictor into an api using \"fastapi\""
   ]
  },
  {
   "cell_type": "code",
   "execution_count": 27,
   "id": "0082e8d5",
   "metadata": {},
   "outputs": [],
   "source": [
    "from fastapi import FastAPI\n",
    "from pydantic import BaseModel\n",
    "\n",
    "app = FastAPI()\n",
    "\n",
    "class FraudInput(BaseModel):\n",
    "    category: str\n",
    "    acc_days: int\n",
    "    failed_logins: int\n",
    "    is_vpn_or_proxy: int  # or bool\n",
    "    transaction_amount: float\n",
    "    is_card_blacklisted: int  # or bool\n",
    "    is_multiple_cards_used: int  # or bool\n",
    "    items_quantity: int\n",
    "    pages_viewed: int\n",
    "    device_change_during_session: int  # or bool\n",
    "    purchase_frequency_user: float\n",
    "\n",
    "@app.post(\"/predict\")\n",
    "def predict(data: FraudInput):\n",
    "    raw_input = data.dict()\n",
    "    result = predict_fraud_with_confidence(raw_input)\n",
    "    return result\n"
   ]
  },
  {
   "cell_type": "markdown",
   "id": "52643da6",
   "metadata": {},
   "source": [
    "# Run The SCRIPT !!!!!"
   ]
  },
  {
   "cell_type": "markdown",
   "id": "a859f91a",
   "metadata": {},
   "source": [
    "The script can be run from the ipynb fiel but it is more convenient to run from the terminal so to run the script <br> \n",
    "type the following command into a shell: python start_pyserver.py<br>\n",
    "the start_pyserver.py only starts the main script at fraud_api.py using uvicorn<br>\n",
    "the fraud_api.py script is basically this file but streamlined"
   ]
  }
 ],
 "metadata": {
  "kernelspec": {
   "display_name": "Python 3",
   "language": "python",
   "name": "python3"
  },
  "language_info": {
   "codemirror_mode": {
    "name": "ipython",
    "version": 3
   },
   "file_extension": ".py",
   "mimetype": "text/x-python",
   "name": "python",
   "nbconvert_exporter": "python",
   "pygments_lexer": "ipython3",
   "version": "3.13.1"
  }
 },
 "nbformat": 4,
 "nbformat_minor": 5
}
